{
 "cells": [
  {
   "cell_type": "code",
   "execution_count": 74,
   "metadata": {},
   "outputs": [],
   "source": [
    "import numpy as np\n",
    "import pandas as pd\n",
    "import matplotlib as mpl\n",
    "import matplotlib.pyplot as plt\n",
    "import seaborn as sns\n",
    "%matplotlib inline"
   ]
  },
  {
   "cell_type": "code",
   "execution_count": 75,
   "metadata": {},
   "outputs": [],
   "source": [
    "data=pd.read_csv(\"autos.csv\", encoding=\"latin1\")\n",
    "df=pd.DataFrame(data)"
   ]
  },
  {
   "cell_type": "code",
   "execution_count": 76,
   "metadata": {},
   "outputs": [
    {
     "data": {
      "text/plain": [
       "dateCrawled                0\n",
       "name                       0\n",
       "seller                     0\n",
       "offerType                  0\n",
       "price                      0\n",
       "abtest                     0\n",
       "vehicleType            37869\n",
       "yearOfRegistration         0\n",
       "gearbox                20209\n",
       "powerPS                    0\n",
       "model                  20484\n",
       "kilometer                  0\n",
       "monthOfRegistration        0\n",
       "fuelType               33386\n",
       "brand                      0\n",
       "notRepairedDamage      72060\n",
       "dateCreated                0\n",
       "nrOfPictures               0\n",
       "postalCode                 0\n",
       "lastSeen                   0\n",
       "dtype: int64"
      ]
     },
     "execution_count": 76,
     "metadata": {},
     "output_type": "execute_result"
    }
   ],
   "source": [
    "df.isnull().sum()"
   ]
  },
  {
   "cell_type": "code",
   "execution_count": 77,
   "metadata": {},
   "outputs": [
    {
     "data": {
      "text/html": [
       "<div>\n",
       "<style scoped>\n",
       "    .dataframe tbody tr th:only-of-type {\n",
       "        vertical-align: middle;\n",
       "    }\n",
       "\n",
       "    .dataframe tbody tr th {\n",
       "        vertical-align: top;\n",
       "    }\n",
       "\n",
       "    .dataframe thead th {\n",
       "        text-align: right;\n",
       "    }\n",
       "</style>\n",
       "<table border=\"1\" class=\"dataframe\">\n",
       "  <thead>\n",
       "    <tr style=\"text-align: right;\">\n",
       "      <th></th>\n",
       "      <th>price</th>\n",
       "      <th>yearOfRegistration</th>\n",
       "      <th>powerPS</th>\n",
       "      <th>kilometer</th>\n",
       "      <th>monthOfRegistration</th>\n",
       "      <th>nrOfPictures</th>\n",
       "      <th>postalCode</th>\n",
       "    </tr>\n",
       "  </thead>\n",
       "  <tbody>\n",
       "    <tr>\n",
       "      <th>count</th>\n",
       "      <td>3.715280e+05</td>\n",
       "      <td>371528.000000</td>\n",
       "      <td>371528.000000</td>\n",
       "      <td>371528.000000</td>\n",
       "      <td>371528.000000</td>\n",
       "      <td>371528.0</td>\n",
       "      <td>371528.00000</td>\n",
       "    </tr>\n",
       "    <tr>\n",
       "      <th>mean</th>\n",
       "      <td>1.729514e+04</td>\n",
       "      <td>2004.577997</td>\n",
       "      <td>115.549477</td>\n",
       "      <td>125618.688228</td>\n",
       "      <td>5.734445</td>\n",
       "      <td>0.0</td>\n",
       "      <td>50820.66764</td>\n",
       "    </tr>\n",
       "    <tr>\n",
       "      <th>std</th>\n",
       "      <td>3.587954e+06</td>\n",
       "      <td>92.866598</td>\n",
       "      <td>192.139578</td>\n",
       "      <td>40112.337051</td>\n",
       "      <td>3.712412</td>\n",
       "      <td>0.0</td>\n",
       "      <td>25799.08247</td>\n",
       "    </tr>\n",
       "    <tr>\n",
       "      <th>min</th>\n",
       "      <td>0.000000e+00</td>\n",
       "      <td>1000.000000</td>\n",
       "      <td>0.000000</td>\n",
       "      <td>5000.000000</td>\n",
       "      <td>0.000000</td>\n",
       "      <td>0.0</td>\n",
       "      <td>1067.00000</td>\n",
       "    </tr>\n",
       "    <tr>\n",
       "      <th>25%</th>\n",
       "      <td>1.150000e+03</td>\n",
       "      <td>1999.000000</td>\n",
       "      <td>70.000000</td>\n",
       "      <td>125000.000000</td>\n",
       "      <td>3.000000</td>\n",
       "      <td>0.0</td>\n",
       "      <td>30459.00000</td>\n",
       "    </tr>\n",
       "    <tr>\n",
       "      <th>50%</th>\n",
       "      <td>2.950000e+03</td>\n",
       "      <td>2003.000000</td>\n",
       "      <td>105.000000</td>\n",
       "      <td>150000.000000</td>\n",
       "      <td>6.000000</td>\n",
       "      <td>0.0</td>\n",
       "      <td>49610.00000</td>\n",
       "    </tr>\n",
       "    <tr>\n",
       "      <th>75%</th>\n",
       "      <td>7.200000e+03</td>\n",
       "      <td>2008.000000</td>\n",
       "      <td>150.000000</td>\n",
       "      <td>150000.000000</td>\n",
       "      <td>9.000000</td>\n",
       "      <td>0.0</td>\n",
       "      <td>71546.00000</td>\n",
       "    </tr>\n",
       "    <tr>\n",
       "      <th>max</th>\n",
       "      <td>2.147484e+09</td>\n",
       "      <td>9999.000000</td>\n",
       "      <td>20000.000000</td>\n",
       "      <td>150000.000000</td>\n",
       "      <td>12.000000</td>\n",
       "      <td>0.0</td>\n",
       "      <td>99998.00000</td>\n",
       "    </tr>\n",
       "  </tbody>\n",
       "</table>\n",
       "</div>"
      ],
      "text/plain": [
       "              price  yearOfRegistration        powerPS      kilometer  \\\n",
       "count  3.715280e+05       371528.000000  371528.000000  371528.000000   \n",
       "mean   1.729514e+04         2004.577997     115.549477  125618.688228   \n",
       "std    3.587954e+06           92.866598     192.139578   40112.337051   \n",
       "min    0.000000e+00         1000.000000       0.000000    5000.000000   \n",
       "25%    1.150000e+03         1999.000000      70.000000  125000.000000   \n",
       "50%    2.950000e+03         2003.000000     105.000000  150000.000000   \n",
       "75%    7.200000e+03         2008.000000     150.000000  150000.000000   \n",
       "max    2.147484e+09         9999.000000   20000.000000  150000.000000   \n",
       "\n",
       "       monthOfRegistration  nrOfPictures    postalCode  \n",
       "count        371528.000000      371528.0  371528.00000  \n",
       "mean              5.734445           0.0   50820.66764  \n",
       "std               3.712412           0.0   25799.08247  \n",
       "min               0.000000           0.0    1067.00000  \n",
       "25%               3.000000           0.0   30459.00000  \n",
       "50%               6.000000           0.0   49610.00000  \n",
       "75%               9.000000           0.0   71546.00000  \n",
       "max              12.000000           0.0   99998.00000  "
      ]
     },
     "execution_count": 77,
     "metadata": {},
     "output_type": "execute_result"
    }
   ],
   "source": [
    "df.describe()"
   ]
  },
  {
   "cell_type": "code",
   "execution_count": 78,
   "metadata": {},
   "outputs": [
    {
     "data": {
      "text/plain": [
       "37869"
      ]
     },
     "execution_count": 78,
     "metadata": {},
     "output_type": "execute_result"
    }
   ],
   "source": [
    "data['vehicleType'].isnull().values.sum()"
   ]
  },
  {
   "cell_type": "code",
   "execution_count": 79,
   "metadata": {},
   "outputs": [
    {
     "data": {
      "text/plain": [
       "0"
      ]
     },
     "execution_count": 79,
     "metadata": {},
     "output_type": "execute_result"
    }
   ],
   "source": [
    "data['vehicleType'].fillna(\"other\",inplace=True)\n",
    "data['vehicleType'].isnull().values.sum()"
   ]
  },
  {
   "cell_type": "code",
   "execution_count": 80,
   "metadata": {},
   "outputs": [
    {
     "data": {
      "text/plain": [
       "array(['Angebot', 'Gesuch'], dtype=object)"
      ]
     },
     "execution_count": 80,
     "metadata": {},
     "output_type": "execute_result"
    }
   ],
   "source": [
    "data['offerType'].unique()"
   ]
  },
  {
   "cell_type": "code",
   "execution_count": 81,
   "metadata": {},
   "outputs": [],
   "source": [
    "data['offerType']=data['offerType'].map({'Gesuch':\"Application\",\"Angebot\":\"Offer\"})"
   ]
  },
  {
   "cell_type": "code",
   "execution_count": 82,
   "metadata": {},
   "outputs": [
    {
     "data": {
      "text/plain": [
       "array(['Offer', 'Application'], dtype=object)"
      ]
     },
     "execution_count": 82,
     "metadata": {},
     "output_type": "execute_result"
    }
   ],
   "source": [
    "data['offerType'].unique()"
   ]
  },
  {
   "cell_type": "code",
   "execution_count": 83,
   "metadata": {},
   "outputs": [
    {
     "data": {
      "text/plain": [
       "<seaborn.axisgrid.FacetGrid at 0x2adc23f0760>"
      ]
     },
     "execution_count": 83,
     "metadata": {},
     "output_type": "execute_result"
    },
    {
     "data": {
      "image/png": "[encoded data removed]",
      "text/plain": [
       "<Figure size 720x720 with 1 Axes>"
      ]
     },
     "metadata": {
      "needs_background": "light"
     },
     "output_type": "display_data"
    }
   ],
   "source": [
    "sns.displot(data=data,x='yearOfRegistration',kind='kde',height=10)"
   ]
  },
  {
   "cell_type": "code",
   "execution_count": 84,
   "metadata": {},
   "outputs": [
    {
     "data": {
      "text/plain": [
       "<AxesSubplot:xlabel='vehicleType', ylabel='price'>"
      ]
     },
     "execution_count": 84,
     "metadata": {},
     "output_type": "execute_result"
    },
    {
     "data": {
      "image/png": "[encoded data removed]",
      "text/plain": [
       "<Figure size 432x288 with 1 Axes>"
      ]
     },
     "metadata": {
      "needs_background": "light"
     },
     "output_type": "display_data"
    }
   ],
   "source": [
    "sns.boxplot(x=\"vehicleType\",y=\"price\",data=data,)\n",
    "#ax.text(\"hello this sample text ..\",fontsize=18,color=\"r\",ha=\"center\",va=\"center\")"
   ]
  },
  {
   "cell_type": "code",
   "execution_count": 85,
   "metadata": {},
   "outputs": [
    {
     "data": {
      "text/plain": [
       "vehicleType\n",
       "andere         8434.0\n",
       "bus           13948.5\n",
       "cabrio        21400.0\n",
       "coupe         24300.0\n",
       "kleinwagen     5775.0\n",
       "kombi         13076.5\n",
       "limousine     12801.5\n",
       "other          5100.0\n",
       "suv           28800.0\n",
       "Name: price, dtype: float64"
      ]
     },
     "execution_count": 85,
     "metadata": {},
     "output_type": "execute_result"
    }
   ],
   "source": [
    "# # mean of the prices of all vehicle type \n",
    "median_=data.groupby('vehicleType')['price'].median()\n",
    "#75 th percentile \n",
    "quantile75_=data.groupby('vehicleType')['price'].quantile(0.75)\n",
    "#25 th percentile \n",
    "quantile25_=data.groupby('vehicleType')['price'].quantile(0.25)\n",
    "\n",
    "#Cal iq values of prices of each vehicle type above which all the values are outliers \n",
    "iqr=(quantile75_ - quantile25_)*1.5+median_\n",
    "iqr"
   ]
  },
  {
   "cell_type": "code",
   "execution_count": 86,
   "metadata": {},
   "outputs": [
    {
     "data": {
      "text/plain": [
       "(280043, 20)"
      ]
     },
     "execution_count": 86,
     "metadata": {},
     "output_type": "execute_result"
    }
   ],
   "source": [
    "\n",
    "#! removing outliers \n",
    "data=data[\n",
    "          ((data['vehicleType']==\"andere\") & (data['price'] <= 8434)) | \n",
    "          ((data['vehicleType']==\"bus\") & (data['price'] <= 13948)) | \n",
    "          ((data['vehicleType']==\"cabrio\") & (data['price'] <= 21400)) | \n",
    "          ((data['vehicleType']==\"coupe\") & (data['price'] <= 24300)) | \n",
    "          ((data['vehicleType']==\"kleinwagen\") & (data['price'] <= 13076)) | \n",
    "          ((data['vehicleType']==\"limousine\") & (data['price'] <= 12801)) | \n",
    "          ((data['vehicleType']==\"other\") & (data['price'] <= 12801)) |\n",
    "          ((data['vehicleType']==\"suv\") & (data['price'] <= 28800)) \n",
    "\n",
    "\n",
    "]\n",
    "data.shape"
   ]
  },
  {
   "cell_type": "code",
   "execution_count": 87,
   "metadata": {},
   "outputs": [
    {
     "name": "stdout",
     "output_type": "stream",
     "text": [
      "<class 'pandas.core.frame.DataFrame'>\n",
      "Int64Index: 280043 entries, 0 to 371525\n",
      "Data columns (total 20 columns):\n",
      " #   Column               Non-Null Count   Dtype \n",
      "---  ------               --------------   ----- \n",
      " 0   dateCrawled          280043 non-null  object\n",
      " 1   name                 280043 non-null  object\n",
      " 2   seller               280043 non-null  object\n",
      " 3   offerType            280043 non-null  object\n",
      " 4   price                280043 non-null  int64 \n",
      " 5   abtest               280043 non-null  object\n",
      " 6   vehicleType          280043 non-null  object\n",
      " 7   yearOfRegistration   280043 non-null  int64 \n",
      " 8   gearbox              262164 non-null  object\n",
      " 9   powerPS              280043 non-null  int64 \n",
      " 10  model                262826 non-null  object\n",
      " 11  kilometer            280043 non-null  int64 \n",
      " 12  monthOfRegistration  280043 non-null  int64 \n",
      " 13  fuelType             250987 non-null  object\n",
      " 14  brand                280043 non-null  object\n",
      " 15  notRepairedDamage    220000 non-null  object\n",
      " 16  dateCreated          280043 non-null  object\n",
      " 17  nrOfPictures         280043 non-null  int64 \n",
      " 18  postalCode           280043 non-null  int64 \n",
      " 19  lastSeen             280043 non-null  object\n",
      "dtypes: int64(7), object(13)\n",
      "memory usage: 44.9+ MB\n"
     ]
    }
   ],
   "source": [
    "data.info()"
   ]
  },
  {
   "cell_type": "code",
   "execution_count": 88,
   "metadata": {},
   "outputs": [
    {
     "data": {
      "text/plain": [
       "17879"
      ]
     },
     "execution_count": 88,
     "metadata": {},
     "output_type": "execute_result"
    }
   ],
   "source": [
    "data['gearbox'].isnull().sum()"
   ]
  },
  {
   "cell_type": "code",
   "execution_count": 89,
   "metadata": {},
   "outputs": [
    {
     "data": {
      "text/plain": [
       "0"
      ]
     },
     "execution_count": 89,
     "metadata": {},
     "output_type": "execute_result"
    }
   ],
   "source": [
    "data['gearbox'].unique()\n",
    "data['gearbox'].fillna(\"other\",inplace=True)\n",
    "data['gearbox'].isnull().values.sum()"
   ]
  },
  {
   "cell_type": "code",
   "execution_count": 90,
   "metadata": {},
   "outputs": [
    {
     "data": {
      "text/plain": [
       "0"
      ]
     },
     "execution_count": 90,
     "metadata": {},
     "output_type": "execute_result"
    }
   ],
   "source": [
    "data['model'].unique()\n",
    "data['model'].isnull().sum()\n",
    "data['model'].fillna(\"other\",inplace=True)\n",
    "data['model'].isnull().values.sum()"
   ]
  },
  {
   "cell_type": "code",
   "execution_count": 91,
   "metadata": {},
   "outputs": [
    {
     "data": {
      "text/plain": [
       "0"
      ]
     },
     "execution_count": 91,
     "metadata": {},
     "output_type": "execute_result"
    }
   ],
   "source": [
    "data['fuelType'].unique()\n",
    "data['fuelType'].isnull().sum()\n",
    "data['fuelType'].fillna(\"other\",inplace=True)\n",
    "data['fuelType'].isnull().values.sum()"
   ]
  },
  {
   "cell_type": "code",
   "execution_count": 92,
   "metadata": {},
   "outputs": [
    {
     "data": {
      "text/plain": [
       "0"
      ]
     },
     "execution_count": 92,
     "metadata": {},
     "output_type": "execute_result"
    }
   ],
   "source": [
    "\n",
    "data['notRepairedDamage'].unique()\n",
    "data['notRepairedDamage'].isnull().sum()\n",
    "data['notRepairedDamage'].fillna(\"other\",inplace=True)\n",
    "data['notRepairedDamage'].isnull().values.sum()"
   ]
  },
  {
   "cell_type": "code",
   "execution_count": 93,
   "metadata": {},
   "outputs": [],
   "source": [
    "del data['nrOfPictures']"
   ]
  },
  {
   "cell_type": "code",
   "execution_count": 94,
   "metadata": {},
   "outputs": [
    {
     "name": "stdout",
     "output_type": "stream",
     "text": [
      "<class 'pandas.core.frame.DataFrame'>\n",
      "RangeIndex: 371528 entries, 0 to 371527\n",
      "Data columns (total 20 columns):\n",
      " #   Column               Non-Null Count   Dtype \n",
      "---  ------               --------------   ----- \n",
      " 0   dateCrawled          371528 non-null  object\n",
      " 1   name                 371528 non-null  object\n",
      " 2   seller               371528 non-null  object\n",
      " 3   offerType            371528 non-null  object\n",
      " 4   price                371528 non-null  int64 \n",
      " 5   abtest               371528 non-null  object\n",
      " 6   vehicleType          371528 non-null  object\n",
      " 7   yearOfRegistration   371528 non-null  int64 \n",
      " 8   gearbox              351319 non-null  object\n",
      " 9   powerPS              371528 non-null  int64 \n",
      " 10  model                351044 non-null  object\n",
      " 11  kilometer            371528 non-null  int64 \n",
      " 12  monthOfRegistration  371528 non-null  int64 \n",
      " 13  fuelType             338142 non-null  object\n",
      " 14  brand                371528 non-null  object\n",
      " 15  notRepairedDamage    299468 non-null  object\n",
      " 16  dateCreated          371528 non-null  object\n",
      " 17  nrOfPictures         371528 non-null  int64 \n",
      " 18  postalCode           371528 non-null  int64 \n",
      " 19  lastSeen             371528 non-null  object\n",
      "dtypes: int64(7), object(13)\n",
      "memory usage: 56.7+ MB\n"
     ]
    }
   ],
   "source": [
    "df.info()"
   ]
  },
  {
   "cell_type": "code",
   "execution_count": 95,
   "metadata": {},
   "outputs": [
    {
     "data": {
      "text/plain": [
       "0         2016-03-24 00:00:00\n",
       "1         2016-03-24 00:00:00\n",
       "2         2016-03-14 00:00:00\n",
       "3         2016-03-17 00:00:00\n",
       "4         2016-03-31 00:00:00\n",
       "                 ...         \n",
       "371521    2016-03-27 00:00:00\n",
       "371522    2016-03-21 00:00:00\n",
       "371523    2016-03-14 00:00:00\n",
       "371524    2016-03-05 00:00:00\n",
       "371525    2016-03-19 00:00:00\n",
       "Name: dateCreated, Length: 280043, dtype: object"
      ]
     },
     "execution_count": 95,
     "metadata": {},
     "output_type": "execute_result"
    }
   ],
   "source": [
    "data['dateCrawled']\n",
    "data['dateCreated']"
   ]
  },
  {
   "cell_type": "code",
   "execution_count": 98,
   "metadata": {},
   "outputs": [],
   "source": [
    "data.to_csv('cleanedauto1.csv',index=False)"
   ]
  },
  {
   "cell_type": "code",
   "execution_count": 99,
   "metadata": {},
   "outputs": [
    {
     "name": "stdout",
     "output_type": "stream",
     "text": [
      " Volume in drive C is Windows\n",
      " Volume Serial Number is 6E20-CE0A\n",
      "\n",
      " Directory of C:\\Users\\Rajalakshmi K K\n",
      "\n",
      "12-08-2021  15:54           507,611  Exploratory Data Analysis - Terrorism.ipynb\n",
      "12-08-2021  18:22    <DIR>          .\n",
      "12-08-2021  18:22    <DIR>          ..\n",
      "08-08-2021  12:13    <DIR>          .android\n",
      "16-06-2021  08:54    <DIR>          .conda\n",
      "06-08-2021  11:22    <DIR>          .gradle\n",
      "23-04-2021  12:25    <DIR>          .idlerc\n",
      "12-08-2021  16:31    <DIR>          .ipynb_checkpoints\n",
      "22-04-2021  18:31    <DIR>          .ipython\n",
      "01-06-2021  14:13    <DIR>          .jdks\n",
      "08-08-2021  18:07    <DIR>          .jupyter\n",
      "25-04-2021  08:55    <DIR>          .matplotlib\n",
      "23-04-2021  17:53    <DIR>          .vscode\n",
      "02-06-2021  08:42    <DIR>          .wallaby\n",
      "20-04-2021  12:38    <DIR>          3D Objects\n",
      "29-04-2021  16:48            36,240 Assignment 3 (statistics for data science).ipynb\n",
      "11-05-2021  07:58             9,870 Assignment 4.ipynb\n",
      "12-08-2021  16:48        68,439,217 autos.csv\n",
      "19-06-2021  09:19            85,129 bayesian linear regression.ipynb\n",
      "12-08-2021  18:22        51,147,772 cleanedauto1.csv\n",
      "20-04-2021  12:38    <DIR>          Contacts\n",
      "01-05-2021  12:27            61,194 data.csv\n",
      "01-08-2021  10:57             9,917 data.json\n",
      "07-08-2021  10:32            61,194 data.xlsx\n",
      "03-05-2021  14:58            53,346 data_cleaned.csv\n",
      "29-04-2021  07:16           869,537 data_statistics.csv\n",
      "03-05-2021  15:18            11,883 Descion_tree_coding.ipynb\n",
      "10-08-2021  12:19    <DIR>          Desktop\n",
      "01-08-2021  19:01               830 df.excel\n",
      "11-08-2021  18:48    <DIR>          Documents\n",
      "12-08-2021  16:35    <DIR>          Downloads\n",
      "11-08-2021  19:03             9,685 EDA  using pandas profiling(for titanic dataset).ipynb\n",
      "12-08-2021  08:35           291,269 EDA (for google play store app).ipynb\n",
      "12-08-2021  16:29             9,092 EDA using pandas profiling.ipynb\n",
      "10-08-2021  17:53           123,837 Exploratory Data Analysis (Titanic dataset).ipynb\n",
      "10-08-2021  18:57               555 Exploratory Data Analysis.ipynb\n",
      "20-04-2021  12:38    <DIR>          Favorites\n",
      "24-07-2021  20:48             4,287 Functions.ipynb\n",
      "12-08-2021  10:28       162,812,896 globalterrorism.csv\n",
      "12-08-2021  07:50         1,344,901 googleplaystore.csv\n",
      "07-05-2021  19:59            19,445 health_insurance_premiums.csv\n",
      "24-07-2021  20:48            10,584 in-built functions.ipynb\n",
      "04-05-2021  12:47            42,926 Kmeans.ipynb\n",
      "02-05-2021  20:32            20,644 Linear  Reggresion.ipynb\n",
      "20-04-2021  12:38    <DIR>          Links\n",
      "03-05-2021  14:10            11,050 Logistic Regression.ipynb\n",
      "05-08-2021  19:40           260,905 Matplotlib.ipynb\n",
      "16-06-2021  09:18           286,671 mini proj- descision tree.ipynb\n",
      "01-05-2021  13:03            27,548 missing_value.ipynb\n",
      "20-04-2021  12:38    <DIR>          Music\n",
      "31-07-2021  15:29            52,403 Numpy.ipynb\n",
      "02-06-2021  19:26    <DIR>          OneDrive\n",
      "29-07-2021  13:04            21,716 OOPS in python.ipynb\n",
      "01-05-2021  16:16            61,194 Outlier.csv\n",
      "01-05-2021  17:04            33,008 Outlier.ipynb\n",
      "11-08-2021  19:02         3,793,186 output for titanic dataset.html\n",
      "11-08-2021  16:10         5,790,145 output.html\n",
      "01-08-2021  18:59             5,486 output.xlsx\n",
      "11-08-2021  20:17             9,699 Pandas Visual Analysis.ipynb\n",
      "01-08-2021  20:43           450,985 Pandas.ipynb\n",
      "04-08-2021  12:36    <DIR>          Pictures\n",
      "07-05-2021  20:00            12,032 Project - insurance payment(logistic regression).ipynb\n",
      "10-05-2021  20:41            44,069 Project 2-Salary_Prediction.ipynb\n",
      "29-07-2021  18:01    <DIR>          PycharmProjects\n",
      "08-05-2021  16:07               417 Salary_Prediction.csv\n",
      "01-08-2021  15:19                42 sample.csv\n",
      "20-04-2021  12:38    <DIR>          Saved Games\n",
      "09-08-2021  17:17            24,542 SciPy.ipynb\n",
      "08-08-2021  20:09         1,966,803 seaborn.ipynb\n",
      "11-08-2021  20:03    <DIR>          seaborn-data\n",
      "20-04-2021  12:40    <DIR>          Searches\n",
      "04-05-2021  09:04           391,968 student_evaluation.csv\n",
      "08-05-2021  09:48            41,983 student-mat.csv\n",
      "11-05-2021  07:58            85,494 submission.csv\n",
      "04-06-2021  19:41            31,612 task-1.ipynb\n",
      "04-06-2021  19:41            40,508 task-2.ipynb\n",
      "04-05-2021  13:17           313,425 test.csv\n",
      "30-04-2021  18:23            61,194 titanic.csv\n",
      "04-05-2021  13:18           968,350 train.csv\n",
      "01-05-2021  17:12            61,194 transformation.csv\n",
      "11-08-2021  12:43         1,107,219 Univariate, Bivariate, Multivariate.ipynb\n",
      "12-08-2021  16:43            13,442 Untitled.ipynb\n",
      "30-04-2021  21:35            57,191 Untitled1.ipynb\n",
      "10-05-2021  16:04            67,752 Untitled2.ipynb\n",
      "17-06-2021  18:04            11,976 Untitled3.ipynb\n",
      "17-06-2021  18:13            15,074 Untitled4.ipynb\n",
      "12-08-2021  18:22            48,447 Untitled5.ipynb\n",
      "01-05-2021  17:57            20,950 variable transformation.ipynb\n",
      "23-05-2021  10:47    <DIR>          Videos\n",
      "12-05-2021  12:48    <DIR>          wekafiles\n",
      "              61 File(s)    302,173,541 bytes\n",
      "              29 Dir(s)  224,450,318,336 bytes free\n"
     ]
    }
   ],
   "source": [
    "ls"
   ]
  },
  {
   "cell_type": "code",
   "execution_count": 100,
   "metadata": {},
   "outputs": [
    {
     "name": "stdout",
     "output_type": "stream",
     "text": [
      "<class 'pandas.core.frame.DataFrame'>\n",
      "RangeIndex: 280043 entries, 0 to 280042\n",
      "Data columns (total 19 columns):\n",
      " #   Column               Non-Null Count   Dtype \n",
      "---  ------               --------------   ----- \n",
      " 0   dateCrawled          280043 non-null  object\n",
      " 1   name                 280043 non-null  object\n",
      " 2   seller               280043 non-null  object\n",
      " 3   offerType            280043 non-null  object\n",
      " 4   price                280043 non-null  int64 \n",
      " 5   abtest               280043 non-null  object\n",
      " 6   vehicleType          280043 non-null  object\n",
      " 7   yearOfRegistration   280043 non-null  int64 \n",
      " 8   gearbox              280043 non-null  object\n",
      " 9   powerPS              280043 non-null  int64 \n",
      " 10  model                280043 non-null  object\n",
      " 11  kilometer            280043 non-null  int64 \n",
      " 12  monthOfRegistration  280043 non-null  int64 \n",
      " 13  fuelType             280043 non-null  object\n",
      " 14  brand                280043 non-null  object\n",
      " 15  notRepairedDamage    280043 non-null  object\n",
      " 16  dateCreated          280043 non-null  object\n",
      " 17  postalCode           280043 non-null  int64 \n",
      " 18  lastSeen             280043 non-null  object\n",
      "dtypes: int64(6), object(13)\n",
      "memory usage: 40.6+ MB\n"
     ]
    },
    {
     "data": {
      "text/plain": [
       "(280043, 19)"
      ]
     },
     "execution_count": 100,
     "metadata": {},
     "output_type": "execute_result"
    }
   ],
   "source": [
    "new_data=pd.read_csv('cleanedauto1.csv')\n",
    "new_data.shape\n",
    "new_data.info()\n",
    "\n",
    "new_data.shape"
   ]
  },
  {
   "cell_type": "code",
   "execution_count": 101,
   "metadata": {},
   "outputs": [
    {
     "data": {
      "text/plain": [
       "<AxesSubplot:xlabel='vehicleType', ylabel='price'>"
      ]
     },
     "execution_count": 101,
     "metadata": {},
     "output_type": "execute_result"
    },
    {
     "data": {
      "image/png": "[encoded data removed]",
      "text/plain": [
       "<Figure size 720x576 with 1 Axes>"
      ]
     },
     "metadata": {
      "needs_background": "light"
     },
     "output_type": "display_data"
    }
   ],
   "source": [
    "plt.figure(figsize=(10,8))\n",
    "sns.boxplot(x=\"vehicleType\",y=\"price\",data=new_data)"
   ]
  },
  {
   "cell_type": "code",
   "execution_count": 102,
   "metadata": {},
   "outputs": [
    {
     "data": {
      "text/plain": [
       "<seaborn.axisgrid.FacetGrid at 0x2adc2af47c0>"
      ]
     },
     "execution_count": 102,
     "metadata": {},
     "output_type": "execute_result"
    },
    {
     "data": {
      "image/png": "[encoded data removed]",
      "text/plain": [
       "<Figure size 720x720 with 1 Axes>"
      ]
     },
     "metadata": {
      "needs_background": "light"
     },
     "output_type": "display_data"
    }
   ],
   "source": [
    "sns.displot(data=new_data,x='yearOfRegistration',kind='kde',height=10)"
   ]
  },
  {
   "cell_type": "code",
   "execution_count": 103,
   "metadata": {},
   "outputs": [
    {
     "data": {
      "image/png": "[encoded data removed]",
      "text/plain": [
       "<Figure size 1080x864 with 1 Axes>"
      ]
     },
     "metadata": {
      "needs_background": "light"
     },
     "output_type": "display_data"
    }
   ],
   "source": [
    "fig,ax=plt.subplots(figsize=(15,12))\n",
    "sns.countplot(data=new_data,x='vehicleType')\n",
    "\n",
    "for p in ax.patches: \n",
    "  ax.annotate((p.get_height()), (p.get_x()+0.1, p.get_height()+50))"
   ]
  },
  {
   "cell_type": "code",
   "execution_count": null,
   "metadata": {},
   "outputs": [],
   "source": []
  }
 ],
 "metadata": {
  "kernelspec": {
   "display_name": "Python 3",
   "language": "python",
   "name": "python3"
  },
  "language_info": {
   "codemirror_mode": {
    "name": "ipython",
    "version": 3
   },
   "file_extension": ".py",
   "mimetype": "text/x-python",
   "name": "python",
   "nbconvert_exporter": "python",
   "pygments_lexer": "ipython3",
   "version": "3.8.5"
  }
 },
 "nbformat": 4,
 "nbformat_minor": 4
}
